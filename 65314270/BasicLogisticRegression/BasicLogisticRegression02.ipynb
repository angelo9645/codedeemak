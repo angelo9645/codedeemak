{
 "cells": [
  {
   "cell_type": "markdown",
   "metadata": {
    "pycharm": {
     "name": "#%% md\n"
    }
   },
   "source": [
    "<div style=\"background-color: #4CAF50; color: white; padding: 10px; border-radius: 5px; display: flex; align-items: center;\">\n",
    "    <h1 style=\"margin: 0 auto; font-size: 30px; font-weight: bold; font-family: Helvetica\">การวิเคราะห์ข้อมูลถดถอยลอจิสติก (Logistic Regression)</h1>\n",
    "</div>"
   ]
  },
  {
   "cell_type": "markdown",
   "id": "51a02734",
   "metadata": {},
   "source": [
    "<h1 style=\"font-size: 25px; font-weight: bold; font-family: Helvetica\">เครื่องมือที่จะใช้ใน Lab นี้</h1> "
   ]
  },
  {
   "cell_type": "code",
   "execution_count": 1,
   "id": "4e45dd28",
   "metadata": {
    "pycharm": {
     "name": "#%%\n"
    }
   },
   "outputs": [],
   "source": [
    "# นำเข้าไลบรารี numpy โดยตั้งชื่อว่า np\n",
    "import numpy as np\n",
    "# นำเข้าไลบรารี matplotlib โดยตั้งชื่อว่า plt\n",
    "import matplotlib.pyplot as plt\n",
    "# นำเข้าไลบรารี pandas โดยตั้งชื่อว่า pd\n",
    "import pandas as pd\n",
    "# นำเข้าไลบรารี seaborn โดยตั้งชื่อว่า sns\n",
    "import seaborn as sns"
   ]
  },
  {
   "cell_type": "markdown",
   "metadata": {
    "pycharm": {
     "name": "#%% md\n"
    }
   },
   "source": [
    "<h1 style=\"font-size: 25px; font-weight: bold; font-family: Helvetica\">1. สำรวจและวิเคราะห์ข้อมูลเบื้องต้น (Exploratory Data Analysis: EDA)</h1>"
   ]
  },
  {
   "cell_type": "markdown",
   "id": "bfaadf70",
   "metadata": {},
   "source": [
    "<h1 style=\"font-size: 18px;\">1.1 นำข้อมูลเข้า</h1>"
   ]
  },
  {
   "cell_type": "code",
   "execution_count": 2,
   "id": "279ad867",
   "metadata": {
    "pycharm": {
     "name": "#%%\n"
    },
    "tags": []
   },
   "outputs": [
    {
     "data": {
      "text/html": [
       "<div>\n",
       "<style scoped>\n",
       "    .dataframe tbody tr th:only-of-type {\n",
       "        vertical-align: middle;\n",
       "    }\n",
       "\n",
       "    .dataframe tbody tr th {\n",
       "        vertical-align: top;\n",
       "    }\n",
       "\n",
       "    .dataframe thead th {\n",
       "        text-align: right;\n",
       "    }\n",
       "</style>\n",
       "<table border=\"1\" class=\"dataframe\">\n",
       "  <thead>\n",
       "    <tr style=\"text-align: right;\">\n",
       "      <th></th>\n",
       "      <th>cap-diameter</th>\n",
       "      <th>cap-shape</th>\n",
       "      <th>gill-attachment</th>\n",
       "      <th>gill-color</th>\n",
       "      <th>stem-height</th>\n",
       "      <th>stem-width</th>\n",
       "      <th>stem-color</th>\n",
       "      <th>season</th>\n",
       "      <th>class</th>\n",
       "    </tr>\n",
       "  </thead>\n",
       "  <tbody>\n",
       "    <tr>\n",
       "      <th>0</th>\n",
       "      <td>1372</td>\n",
       "      <td>2</td>\n",
       "      <td>2</td>\n",
       "      <td>10</td>\n",
       "      <td>3.807467</td>\n",
       "      <td>1545</td>\n",
       "      <td>11</td>\n",
       "      <td>1.804273</td>\n",
       "      <td>1</td>\n",
       "    </tr>\n",
       "    <tr>\n",
       "      <th>1</th>\n",
       "      <td>1461</td>\n",
       "      <td>2</td>\n",
       "      <td>2</td>\n",
       "      <td>10</td>\n",
       "      <td>3.807467</td>\n",
       "      <td>1557</td>\n",
       "      <td>11</td>\n",
       "      <td>1.804273</td>\n",
       "      <td>1</td>\n",
       "    </tr>\n",
       "    <tr>\n",
       "      <th>2</th>\n",
       "      <td>1371</td>\n",
       "      <td>2</td>\n",
       "      <td>2</td>\n",
       "      <td>10</td>\n",
       "      <td>3.612496</td>\n",
       "      <td>1566</td>\n",
       "      <td>11</td>\n",
       "      <td>1.804273</td>\n",
       "      <td>1</td>\n",
       "    </tr>\n",
       "    <tr>\n",
       "      <th>3</th>\n",
       "      <td>1261</td>\n",
       "      <td>6</td>\n",
       "      <td>2</td>\n",
       "      <td>10</td>\n",
       "      <td>3.787572</td>\n",
       "      <td>1566</td>\n",
       "      <td>11</td>\n",
       "      <td>1.804273</td>\n",
       "      <td>1</td>\n",
       "    </tr>\n",
       "    <tr>\n",
       "      <th>4</th>\n",
       "      <td>1305</td>\n",
       "      <td>6</td>\n",
       "      <td>2</td>\n",
       "      <td>10</td>\n",
       "      <td>3.711971</td>\n",
       "      <td>1464</td>\n",
       "      <td>11</td>\n",
       "      <td>0.943195</td>\n",
       "      <td>1</td>\n",
       "    </tr>\n",
       "    <tr>\n",
       "      <th>...</th>\n",
       "      <td>...</td>\n",
       "      <td>...</td>\n",
       "      <td>...</td>\n",
       "      <td>...</td>\n",
       "      <td>...</td>\n",
       "      <td>...</td>\n",
       "      <td>...</td>\n",
       "      <td>...</td>\n",
       "      <td>...</td>\n",
       "    </tr>\n",
       "    <tr>\n",
       "      <th>54030</th>\n",
       "      <td>73</td>\n",
       "      <td>5</td>\n",
       "      <td>3</td>\n",
       "      <td>2</td>\n",
       "      <td>0.887740</td>\n",
       "      <td>569</td>\n",
       "      <td>12</td>\n",
       "      <td>0.943195</td>\n",
       "      <td>1</td>\n",
       "    </tr>\n",
       "    <tr>\n",
       "      <th>54031</th>\n",
       "      <td>82</td>\n",
       "      <td>2</td>\n",
       "      <td>3</td>\n",
       "      <td>2</td>\n",
       "      <td>1.186164</td>\n",
       "      <td>490</td>\n",
       "      <td>12</td>\n",
       "      <td>0.943195</td>\n",
       "      <td>1</td>\n",
       "    </tr>\n",
       "    <tr>\n",
       "      <th>54032</th>\n",
       "      <td>82</td>\n",
       "      <td>5</td>\n",
       "      <td>3</td>\n",
       "      <td>2</td>\n",
       "      <td>0.915593</td>\n",
       "      <td>584</td>\n",
       "      <td>12</td>\n",
       "      <td>0.888450</td>\n",
       "      <td>1</td>\n",
       "    </tr>\n",
       "    <tr>\n",
       "      <th>54033</th>\n",
       "      <td>79</td>\n",
       "      <td>2</td>\n",
       "      <td>3</td>\n",
       "      <td>2</td>\n",
       "      <td>1.034963</td>\n",
       "      <td>491</td>\n",
       "      <td>12</td>\n",
       "      <td>0.888450</td>\n",
       "      <td>1</td>\n",
       "    </tr>\n",
       "    <tr>\n",
       "      <th>54034</th>\n",
       "      <td>72</td>\n",
       "      <td>5</td>\n",
       "      <td>3</td>\n",
       "      <td>2</td>\n",
       "      <td>1.158311</td>\n",
       "      <td>492</td>\n",
       "      <td>12</td>\n",
       "      <td>0.888450</td>\n",
       "      <td>1</td>\n",
       "    </tr>\n",
       "  </tbody>\n",
       "</table>\n",
       "<p>54035 rows × 9 columns</p>\n",
       "</div>"
      ],
      "text/plain": [
       "       cap-diameter  cap-shape  gill-attachment  gill-color  stem-height  \\\n",
       "0              1372          2                2          10     3.807467   \n",
       "1              1461          2                2          10     3.807467   \n",
       "2              1371          2                2          10     3.612496   \n",
       "3              1261          6                2          10     3.787572   \n",
       "4              1305          6                2          10     3.711971   \n",
       "...             ...        ...              ...         ...          ...   \n",
       "54030            73          5                3           2     0.887740   \n",
       "54031            82          2                3           2     1.186164   \n",
       "54032            82          5                3           2     0.915593   \n",
       "54033            79          2                3           2     1.034963   \n",
       "54034            72          5                3           2     1.158311   \n",
       "\n",
       "       stem-width  stem-color    season  class  \n",
       "0            1545          11  1.804273      1  \n",
       "1            1557          11  1.804273      1  \n",
       "2            1566          11  1.804273      1  \n",
       "3            1566          11  1.804273      1  \n",
       "4            1464          11  0.943195      1  \n",
       "...           ...         ...       ...    ...  \n",
       "54030         569          12  0.943195      1  \n",
       "54031         490          12  0.943195      1  \n",
       "54032         584          12  0.888450      1  \n",
       "54033         491          12  0.888450      1  \n",
       "54034         492          12  0.888450      1  \n",
       "\n",
       "[54035 rows x 9 columns]"
      ]
     },
     "execution_count": 2,
     "metadata": {},
     "output_type": "execute_result"
    }
   ],
   "source": [
    "data = pd.read_csv('mushroom_cleaned.csv') # อ่านไฟล์ csv ชื่อ 'mushroom_cleaned.csv' เราจะได้ตารางของข้อมูล (dataframe) เก็บไว้ในตัวแปรชื่อ data\n",
    "data # แสดงผล dataframe                             "
   ]
  },
  {
   "cell_type": "markdown",
   "id": "66ac95c3",
   "metadata": {},
   "source": [
    "<h1 style=\"font-size: 18px;\">1.2 สำรวจข้อมูล</h1>"
   ]
  },
  {
   "cell_type": "code",
   "execution_count": 3,
   "id": "1e24c36f",
   "metadata": {},
   "outputs": [
    {
     "name": "stdout",
     "output_type": "stream",
     "text": [
      "<class 'pandas.core.frame.DataFrame'>\n",
      "RangeIndex: 54035 entries, 0 to 54034\n",
      "Data columns (total 9 columns):\n",
      " #   Column           Non-Null Count  Dtype  \n",
      "---  ------           --------------  -----  \n",
      " 0   cap-diameter     54035 non-null  int64  \n",
      " 1   cap-shape        54035 non-null  int64  \n",
      " 2   gill-attachment  54035 non-null  int64  \n",
      " 3   gill-color       54035 non-null  int64  \n",
      " 4   stem-height      54035 non-null  float64\n",
      " 5   stem-width       54035 non-null  int64  \n",
      " 6   stem-color       54035 non-null  int64  \n",
      " 7   season           54035 non-null  float64\n",
      " 8   class            54035 non-null  int64  \n",
      "dtypes: float64(2), int64(7)\n",
      "memory usage: 3.7 MB\n"
     ]
    }
   ],
   "source": [
    "data.info() # แสดงรายละเอียดของแต่ละคอลัมน์ใน data"
   ]
  },
  {
   "cell_type": "code",
   "execution_count": 4,
   "id": "1f2c6328",
   "metadata": {},
   "outputs": [
    {
     "data": {
      "text/html": [
       "<div>\n",
       "<style scoped>\n",
       "    .dataframe tbody tr th:only-of-type {\n",
       "        vertical-align: middle;\n",
       "    }\n",
       "\n",
       "    .dataframe tbody tr th {\n",
       "        vertical-align: top;\n",
       "    }\n",
       "\n",
       "    .dataframe thead th {\n",
       "        text-align: right;\n",
       "    }\n",
       "</style>\n",
       "<table border=\"1\" class=\"dataframe\">\n",
       "  <thead>\n",
       "    <tr style=\"text-align: right;\">\n",
       "      <th></th>\n",
       "      <th>cap-diameter</th>\n",
       "      <th>cap-shape</th>\n",
       "      <th>gill-attachment</th>\n",
       "      <th>gill-color</th>\n",
       "      <th>stem-height</th>\n",
       "      <th>stem-width</th>\n",
       "      <th>stem-color</th>\n",
       "      <th>season</th>\n",
       "      <th>class</th>\n",
       "    </tr>\n",
       "  </thead>\n",
       "  <tbody>\n",
       "    <tr>\n",
       "      <th>count</th>\n",
       "      <td>54035.000000</td>\n",
       "      <td>54035.000000</td>\n",
       "      <td>54035.000000</td>\n",
       "      <td>54035.000000</td>\n",
       "      <td>54035.000000</td>\n",
       "      <td>54035.000000</td>\n",
       "      <td>54035.000000</td>\n",
       "      <td>54035.000000</td>\n",
       "      <td>54035.000000</td>\n",
       "    </tr>\n",
       "    <tr>\n",
       "      <th>mean</th>\n",
       "      <td>567.257204</td>\n",
       "      <td>4.000315</td>\n",
       "      <td>2.142056</td>\n",
       "      <td>7.329509</td>\n",
       "      <td>0.759110</td>\n",
       "      <td>1051.081299</td>\n",
       "      <td>8.418062</td>\n",
       "      <td>0.952163</td>\n",
       "      <td>0.549181</td>\n",
       "    </tr>\n",
       "    <tr>\n",
       "      <th>std</th>\n",
       "      <td>359.883763</td>\n",
       "      <td>2.160505</td>\n",
       "      <td>2.228821</td>\n",
       "      <td>3.200266</td>\n",
       "      <td>0.650969</td>\n",
       "      <td>782.056076</td>\n",
       "      <td>3.262078</td>\n",
       "      <td>0.305594</td>\n",
       "      <td>0.497580</td>\n",
       "    </tr>\n",
       "    <tr>\n",
       "      <th>min</th>\n",
       "      <td>0.000000</td>\n",
       "      <td>0.000000</td>\n",
       "      <td>0.000000</td>\n",
       "      <td>0.000000</td>\n",
       "      <td>0.000426</td>\n",
       "      <td>0.000000</td>\n",
       "      <td>0.000000</td>\n",
       "      <td>0.027372</td>\n",
       "      <td>0.000000</td>\n",
       "    </tr>\n",
       "    <tr>\n",
       "      <th>25%</th>\n",
       "      <td>289.000000</td>\n",
       "      <td>2.000000</td>\n",
       "      <td>0.000000</td>\n",
       "      <td>5.000000</td>\n",
       "      <td>0.270997</td>\n",
       "      <td>421.000000</td>\n",
       "      <td>6.000000</td>\n",
       "      <td>0.888450</td>\n",
       "      <td>0.000000</td>\n",
       "    </tr>\n",
       "    <tr>\n",
       "      <th>50%</th>\n",
       "      <td>525.000000</td>\n",
       "      <td>5.000000</td>\n",
       "      <td>1.000000</td>\n",
       "      <td>8.000000</td>\n",
       "      <td>0.593295</td>\n",
       "      <td>923.000000</td>\n",
       "      <td>11.000000</td>\n",
       "      <td>0.943195</td>\n",
       "      <td>1.000000</td>\n",
       "    </tr>\n",
       "    <tr>\n",
       "      <th>75%</th>\n",
       "      <td>781.000000</td>\n",
       "      <td>6.000000</td>\n",
       "      <td>4.000000</td>\n",
       "      <td>10.000000</td>\n",
       "      <td>1.054858</td>\n",
       "      <td>1523.000000</td>\n",
       "      <td>11.000000</td>\n",
       "      <td>0.943195</td>\n",
       "      <td>1.000000</td>\n",
       "    </tr>\n",
       "    <tr>\n",
       "      <th>max</th>\n",
       "      <td>1891.000000</td>\n",
       "      <td>6.000000</td>\n",
       "      <td>6.000000</td>\n",
       "      <td>11.000000</td>\n",
       "      <td>3.835320</td>\n",
       "      <td>3569.000000</td>\n",
       "      <td>12.000000</td>\n",
       "      <td>1.804273</td>\n",
       "      <td>1.000000</td>\n",
       "    </tr>\n",
       "  </tbody>\n",
       "</table>\n",
       "</div>"
      ],
      "text/plain": [
       "       cap-diameter     cap-shape  gill-attachment    gill-color  \\\n",
       "count  54035.000000  54035.000000     54035.000000  54035.000000   \n",
       "mean     567.257204      4.000315         2.142056      7.329509   \n",
       "std      359.883763      2.160505         2.228821      3.200266   \n",
       "min        0.000000      0.000000         0.000000      0.000000   \n",
       "25%      289.000000      2.000000         0.000000      5.000000   \n",
       "50%      525.000000      5.000000         1.000000      8.000000   \n",
       "75%      781.000000      6.000000         4.000000     10.000000   \n",
       "max     1891.000000      6.000000         6.000000     11.000000   \n",
       "\n",
       "        stem-height    stem-width    stem-color        season         class  \n",
       "count  54035.000000  54035.000000  54035.000000  54035.000000  54035.000000  \n",
       "mean       0.759110   1051.081299      8.418062      0.952163      0.549181  \n",
       "std        0.650969    782.056076      3.262078      0.305594      0.497580  \n",
       "min        0.000426      0.000000      0.000000      0.027372      0.000000  \n",
       "25%        0.270997    421.000000      6.000000      0.888450      0.000000  \n",
       "50%        0.593295    923.000000     11.000000      0.943195      1.000000  \n",
       "75%        1.054858   1523.000000     11.000000      0.943195      1.000000  \n",
       "max        3.835320   3569.000000     12.000000      1.804273      1.000000  "
      ]
     },
     "execution_count": 4,
     "metadata": {},
     "output_type": "execute_result"
    }
   ],
   "source": [
    "data.describe() # แสดงสถิติเบื้องต้นของแต่ละคอลัมน์ใน dataframe"
   ]
  },
  {
   "cell_type": "code",
   "execution_count": 5,
   "id": "7747ce6c",
   "metadata": {},
   "outputs": [
    {
     "data": {
      "text/plain": [
       "cap-diameter       0\n",
       "cap-shape          0\n",
       "gill-attachment    0\n",
       "gill-color         0\n",
       "stem-height        0\n",
       "stem-width         0\n",
       "stem-color         0\n",
       "season             0\n",
       "class              0\n",
       "dtype: int64"
      ]
     },
     "execution_count": 5,
     "metadata": {},
     "output_type": "execute_result"
    }
   ],
   "source": [
    "# ตรวจสอบข้อมูลที่หายไปในแต่ละคอลัมน์\n",
    "data.isnull().sum()"
   ]
  },
  {
   "cell_type": "code",
   "execution_count": 6,
   "id": "4607cd43",
   "metadata": {},
   "outputs": [
    {
     "data": {
      "text/html": [
       "<div>\n",
       "<style scoped>\n",
       "    .dataframe tbody tr th:only-of-type {\n",
       "        vertical-align: middle;\n",
       "    }\n",
       "\n",
       "    .dataframe tbody tr th {\n",
       "        vertical-align: top;\n",
       "    }\n",
       "\n",
       "    .dataframe thead th {\n",
       "        text-align: right;\n",
       "    }\n",
       "</style>\n",
       "<table border=\"1\" class=\"dataframe\">\n",
       "  <thead>\n",
       "    <tr style=\"text-align: right;\">\n",
       "      <th></th>\n",
       "      <th>cap-diameter</th>\n",
       "      <th>cap-shape</th>\n",
       "      <th>gill-attachment</th>\n",
       "      <th>gill-color</th>\n",
       "      <th>stem-height</th>\n",
       "      <th>stem-width</th>\n",
       "      <th>stem-color</th>\n",
       "      <th>season</th>\n",
       "      <th>class</th>\n",
       "    </tr>\n",
       "  </thead>\n",
       "  <tbody>\n",
       "    <tr>\n",
       "      <th>8622</th>\n",
       "      <td>69</td>\n",
       "      <td>6</td>\n",
       "      <td>0</td>\n",
       "      <td>10</td>\n",
       "      <td>1.206059</td>\n",
       "      <td>125</td>\n",
       "      <td>1</td>\n",
       "      <td>0.888450</td>\n",
       "      <td>1</td>\n",
       "    </tr>\n",
       "    <tr>\n",
       "      <th>8815</th>\n",
       "      <td>69</td>\n",
       "      <td>6</td>\n",
       "      <td>0</td>\n",
       "      <td>10</td>\n",
       "      <td>1.206059</td>\n",
       "      <td>125</td>\n",
       "      <td>1</td>\n",
       "      <td>0.888450</td>\n",
       "      <td>1</td>\n",
       "    </tr>\n",
       "    <tr>\n",
       "      <th>11664</th>\n",
       "      <td>27</td>\n",
       "      <td>6</td>\n",
       "      <td>0</td>\n",
       "      <td>11</td>\n",
       "      <td>1.054858</td>\n",
       "      <td>24</td>\n",
       "      <td>12</td>\n",
       "      <td>0.888450</td>\n",
       "      <td>1</td>\n",
       "    </tr>\n",
       "    <tr>\n",
       "      <th>11930</th>\n",
       "      <td>27</td>\n",
       "      <td>6</td>\n",
       "      <td>0</td>\n",
       "      <td>11</td>\n",
       "      <td>1.054858</td>\n",
       "      <td>24</td>\n",
       "      <td>12</td>\n",
       "      <td>0.888450</td>\n",
       "      <td>1</td>\n",
       "    </tr>\n",
       "    <tr>\n",
       "      <th>33439</th>\n",
       "      <td>204</td>\n",
       "      <td>0</td>\n",
       "      <td>0</td>\n",
       "      <td>5</td>\n",
       "      <td>0.154755</td>\n",
       "      <td>271</td>\n",
       "      <td>6</td>\n",
       "      <td>0.027372</td>\n",
       "      <td>1</td>\n",
       "    </tr>\n",
       "    <tr>\n",
       "      <th>...</th>\n",
       "      <td>...</td>\n",
       "      <td>...</td>\n",
       "      <td>...</td>\n",
       "      <td>...</td>\n",
       "      <td>...</td>\n",
       "      <td>...</td>\n",
       "      <td>...</td>\n",
       "      <td>...</td>\n",
       "      <td>...</td>\n",
       "    </tr>\n",
       "    <tr>\n",
       "      <th>52001</th>\n",
       "      <td>249</td>\n",
       "      <td>3</td>\n",
       "      <td>3</td>\n",
       "      <td>2</td>\n",
       "      <td>2.013794</td>\n",
       "      <td>0</td>\n",
       "      <td>2</td>\n",
       "      <td>0.888450</td>\n",
       "      <td>1</td>\n",
       "    </tr>\n",
       "    <tr>\n",
       "      <th>52003</th>\n",
       "      <td>285</td>\n",
       "      <td>3</td>\n",
       "      <td>3</td>\n",
       "      <td>2</td>\n",
       "      <td>2.013794</td>\n",
       "      <td>0</td>\n",
       "      <td>2</td>\n",
       "      <td>0.888450</td>\n",
       "      <td>1</td>\n",
       "    </tr>\n",
       "    <tr>\n",
       "      <th>52005</th>\n",
       "      <td>268</td>\n",
       "      <td>3</td>\n",
       "      <td>3</td>\n",
       "      <td>2</td>\n",
       "      <td>2.013794</td>\n",
       "      <td>0</td>\n",
       "      <td>2</td>\n",
       "      <td>1.804273</td>\n",
       "      <td>1</td>\n",
       "    </tr>\n",
       "    <tr>\n",
       "      <th>52006</th>\n",
       "      <td>238</td>\n",
       "      <td>3</td>\n",
       "      <td>3</td>\n",
       "      <td>2</td>\n",
       "      <td>2.013794</td>\n",
       "      <td>0</td>\n",
       "      <td>2</td>\n",
       "      <td>0.888450</td>\n",
       "      <td>1</td>\n",
       "    </tr>\n",
       "    <tr>\n",
       "      <th>52008</th>\n",
       "      <td>273</td>\n",
       "      <td>3</td>\n",
       "      <td>3</td>\n",
       "      <td>2</td>\n",
       "      <td>2.013794</td>\n",
       "      <td>0</td>\n",
       "      <td>2</td>\n",
       "      <td>0.943195</td>\n",
       "      <td>1</td>\n",
       "    </tr>\n",
       "  </tbody>\n",
       "</table>\n",
       "<p>528 rows × 9 columns</p>\n",
       "</div>"
      ],
      "text/plain": [
       "       cap-diameter  cap-shape  gill-attachment  gill-color  stem-height  \\\n",
       "8622             69          6                0          10     1.206059   \n",
       "8815             69          6                0          10     1.206059   \n",
       "11664            27          6                0          11     1.054858   \n",
       "11930            27          6                0          11     1.054858   \n",
       "33439           204          0                0           5     0.154755   \n",
       "...             ...        ...              ...         ...          ...   \n",
       "52001           249          3                3           2     2.013794   \n",
       "52003           285          3                3           2     2.013794   \n",
       "52005           268          3                3           2     2.013794   \n",
       "52006           238          3                3           2     2.013794   \n",
       "52008           273          3                3           2     2.013794   \n",
       "\n",
       "       stem-width  stem-color    season  class  \n",
       "8622          125           1  0.888450      1  \n",
       "8815          125           1  0.888450      1  \n",
       "11664          24          12  0.888450      1  \n",
       "11930          24          12  0.888450      1  \n",
       "33439         271           6  0.027372      1  \n",
       "...           ...         ...       ...    ...  \n",
       "52001           0           2  0.888450      1  \n",
       "52003           0           2  0.888450      1  \n",
       "52005           0           2  1.804273      1  \n",
       "52006           0           2  0.888450      1  \n",
       "52008           0           2  0.943195      1  \n",
       "\n",
       "[528 rows x 9 columns]"
      ]
     },
     "execution_count": 6,
     "metadata": {},
     "output_type": "execute_result"
    }
   ],
   "source": [
    "data[data.duplicated(keep=False)] # แสดงแถวที่มีแถวซ้ำ"
   ]
  },
  {
   "cell_type": "markdown",
   "id": "eb08ade4",
   "metadata": {},
   "source": [
    "<h1 style=\"font-size: 18px;\">1.3 คัดเลือกข้อมูล (data cleaning)</h1>"
   ]
  },
  {
   "cell_type": "code",
   "execution_count": 7,
   "id": "2e40871e",
   "metadata": {},
   "outputs": [
    {
     "data": {
      "text/html": [
       "<div>\n",
       "<style scoped>\n",
       "    .dataframe tbody tr th:only-of-type {\n",
       "        vertical-align: middle;\n",
       "    }\n",
       "\n",
       "    .dataframe tbody tr th {\n",
       "        vertical-align: top;\n",
       "    }\n",
       "\n",
       "    .dataframe thead th {\n",
       "        text-align: right;\n",
       "    }\n",
       "</style>\n",
       "<table border=\"1\" class=\"dataframe\">\n",
       "  <thead>\n",
       "    <tr style=\"text-align: right;\">\n",
       "      <th></th>\n",
       "      <th>cap-diameter</th>\n",
       "      <th>cap-shape</th>\n",
       "      <th>gill-attachment</th>\n",
       "      <th>gill-color</th>\n",
       "      <th>stem-height</th>\n",
       "      <th>stem-width</th>\n",
       "      <th>stem-color</th>\n",
       "      <th>season</th>\n",
       "      <th>class</th>\n",
       "    </tr>\n",
       "  </thead>\n",
       "  <tbody>\n",
       "    <tr>\n",
       "      <th>0</th>\n",
       "      <td>1372</td>\n",
       "      <td>2</td>\n",
       "      <td>2</td>\n",
       "      <td>10</td>\n",
       "      <td>3.807467</td>\n",
       "      <td>1545</td>\n",
       "      <td>11</td>\n",
       "      <td>1.804273</td>\n",
       "      <td>1</td>\n",
       "    </tr>\n",
       "    <tr>\n",
       "      <th>1</th>\n",
       "      <td>1461</td>\n",
       "      <td>2</td>\n",
       "      <td>2</td>\n",
       "      <td>10</td>\n",
       "      <td>3.807467</td>\n",
       "      <td>1557</td>\n",
       "      <td>11</td>\n",
       "      <td>1.804273</td>\n",
       "      <td>1</td>\n",
       "    </tr>\n",
       "    <tr>\n",
       "      <th>2</th>\n",
       "      <td>1371</td>\n",
       "      <td>2</td>\n",
       "      <td>2</td>\n",
       "      <td>10</td>\n",
       "      <td>3.612496</td>\n",
       "      <td>1566</td>\n",
       "      <td>11</td>\n",
       "      <td>1.804273</td>\n",
       "      <td>1</td>\n",
       "    </tr>\n",
       "    <tr>\n",
       "      <th>3</th>\n",
       "      <td>1261</td>\n",
       "      <td>6</td>\n",
       "      <td>2</td>\n",
       "      <td>10</td>\n",
       "      <td>3.787572</td>\n",
       "      <td>1566</td>\n",
       "      <td>11</td>\n",
       "      <td>1.804273</td>\n",
       "      <td>1</td>\n",
       "    </tr>\n",
       "    <tr>\n",
       "      <th>4</th>\n",
       "      <td>1305</td>\n",
       "      <td>6</td>\n",
       "      <td>2</td>\n",
       "      <td>10</td>\n",
       "      <td>3.711971</td>\n",
       "      <td>1464</td>\n",
       "      <td>11</td>\n",
       "      <td>0.943195</td>\n",
       "      <td>1</td>\n",
       "    </tr>\n",
       "    <tr>\n",
       "      <th>...</th>\n",
       "      <td>...</td>\n",
       "      <td>...</td>\n",
       "      <td>...</td>\n",
       "      <td>...</td>\n",
       "      <td>...</td>\n",
       "      <td>...</td>\n",
       "      <td>...</td>\n",
       "      <td>...</td>\n",
       "      <td>...</td>\n",
       "    </tr>\n",
       "    <tr>\n",
       "      <th>53727</th>\n",
       "      <td>73</td>\n",
       "      <td>5</td>\n",
       "      <td>3</td>\n",
       "      <td>2</td>\n",
       "      <td>0.887740</td>\n",
       "      <td>569</td>\n",
       "      <td>12</td>\n",
       "      <td>0.943195</td>\n",
       "      <td>1</td>\n",
       "    </tr>\n",
       "    <tr>\n",
       "      <th>53728</th>\n",
       "      <td>82</td>\n",
       "      <td>2</td>\n",
       "      <td>3</td>\n",
       "      <td>2</td>\n",
       "      <td>1.186164</td>\n",
       "      <td>490</td>\n",
       "      <td>12</td>\n",
       "      <td>0.943195</td>\n",
       "      <td>1</td>\n",
       "    </tr>\n",
       "    <tr>\n",
       "      <th>53729</th>\n",
       "      <td>82</td>\n",
       "      <td>5</td>\n",
       "      <td>3</td>\n",
       "      <td>2</td>\n",
       "      <td>0.915593</td>\n",
       "      <td>584</td>\n",
       "      <td>12</td>\n",
       "      <td>0.888450</td>\n",
       "      <td>1</td>\n",
       "    </tr>\n",
       "    <tr>\n",
       "      <th>53730</th>\n",
       "      <td>79</td>\n",
       "      <td>2</td>\n",
       "      <td>3</td>\n",
       "      <td>2</td>\n",
       "      <td>1.034963</td>\n",
       "      <td>491</td>\n",
       "      <td>12</td>\n",
       "      <td>0.888450</td>\n",
       "      <td>1</td>\n",
       "    </tr>\n",
       "    <tr>\n",
       "      <th>53731</th>\n",
       "      <td>72</td>\n",
       "      <td>5</td>\n",
       "      <td>3</td>\n",
       "      <td>2</td>\n",
       "      <td>1.158311</td>\n",
       "      <td>492</td>\n",
       "      <td>12</td>\n",
       "      <td>0.888450</td>\n",
       "      <td>1</td>\n",
       "    </tr>\n",
       "  </tbody>\n",
       "</table>\n",
       "<p>53732 rows × 9 columns</p>\n",
       "</div>"
      ],
      "text/plain": [
       "       cap-diameter  cap-shape  gill-attachment  gill-color  stem-height  \\\n",
       "0              1372          2                2          10     3.807467   \n",
       "1              1461          2                2          10     3.807467   \n",
       "2              1371          2                2          10     3.612496   \n",
       "3              1261          6                2          10     3.787572   \n",
       "4              1305          6                2          10     3.711971   \n",
       "...             ...        ...              ...         ...          ...   \n",
       "53727            73          5                3           2     0.887740   \n",
       "53728            82          2                3           2     1.186164   \n",
       "53729            82          5                3           2     0.915593   \n",
       "53730            79          2                3           2     1.034963   \n",
       "53731            72          5                3           2     1.158311   \n",
       "\n",
       "       stem-width  stem-color    season  class  \n",
       "0            1545          11  1.804273      1  \n",
       "1            1557          11  1.804273      1  \n",
       "2            1566          11  1.804273      1  \n",
       "3            1566          11  1.804273      1  \n",
       "4            1464          11  0.943195      1  \n",
       "...           ...         ...       ...    ...  \n",
       "53727         569          12  0.943195      1  \n",
       "53728         490          12  0.943195      1  \n",
       "53729         584          12  0.888450      1  \n",
       "53730         491          12  0.888450      1  \n",
       "53731         492          12  0.888450      1  \n",
       "\n",
       "[53732 rows x 9 columns]"
      ]
     },
     "execution_count": 7,
     "metadata": {},
     "output_type": "execute_result"
    }
   ],
   "source": [
    "# ลบแถวที่มีซ้ำกันออกไป\n",
    "data = data.drop_duplicates()\n",
    "data = data.reset_index(drop=True)\n",
    "data"
   ]
  },
  {
   "cell_type": "markdown",
   "id": "2aa1af51",
   "metadata": {},
   "source": [
    "<h1 style=\"font-size: 18px;\">1.4 ดูความสัมพันธ์ของข้อมูล</h1>"
   ]
  },
  {
   "cell_type": "code",
   "execution_count": 8,
   "id": "2a2af007",
   "metadata": {},
   "outputs": [
    {
     "name": "stdout",
     "output_type": "stream",
     "text": [
      "1    29372\n",
      "0    24360\n",
      "Name: class, dtype: int64\n"
     ]
    },
    {
     "data": {
      "image/png": "[encoded data removed]",
      "text/plain": [
       "<Figure size 432x288 with 1 Axes>"
      ]
     },
     "metadata": {
      "needs_background": "light"
     },
     "output_type": "display_data"
    }
   ],
   "source": [
    "# แสดงจำนวนของแต่ละคลาสในคอลัมน์ 'class'\n",
    "class_counts = data['class'].value_counts()\n",
    "print(class_counts)\n",
    "\n",
    "# แสดงการกระจายตัวของคลาสในคอลัมน์ 'class'\n",
    "plt.figure(figsize=(6, 4))\n",
    "sns.countplot(data=data, x='class')\n",
    "plt.title('Distribution of Class')\n",
    "plt.xlabel('class')\n",
    "plt.ylabel('Count')\n",
    "plt.show()"
   ]
  },
  {
   "cell_type": "code",
   "execution_count": 9,
   "id": "a6675fa3",
   "metadata": {},
   "outputs": [
    {
     "data": {
      "image/png": "[encoded data removed]",
      "text/plain": [
       "<Figure size 864x720 with 2 Axes>"
      ]
     },
     "metadata": {
      "needs_background": "light"
     },
     "output_type": "display_data"
    }
   ],
   "source": [
    "# สร้างกราฟ corelation ของแต่ละคอลัมน์ใน dataframe\n",
    "corr_matrix = data.corr()  # เรียกดู correlation ของแต่ละคอลัมน์ใน dataframe\n",
    "plt.figure(figsize=(12, 10)) # กำหนดขนาดของกราฟ\n",
    "sns.heatmap(corr_matrix, annot=True, fmt=\".2f\", cmap=\"coolwarm\", linewidths=.1, annot_kws={\"size\": 12}) # สร้างกราฟ correlation matrix \n",
    "plt.title('Correlation Heatmap') # ตั้งชื่อกราฟ\n",
    "plt.xticks(rotation = 45) # หมุนตัวอีกษรแกน x เพื่อให้อ่านง่ายขึ้น\n",
    "plt.show() # แสดงผล"
   ]
  },
  {
   "cell_type": "code",
   "execution_count": 10,
   "id": "c4acced9",
   "metadata": {},
   "outputs": [
    {
     "data": {
      "text/plain": [
       "class              1.000000\n",
       "stem-height        0.175839\n",
       "gill-attachment   -0.052397\n",
       "gill-color        -0.060166\n",
       "season            -0.083363\n",
       "stem-color        -0.119940\n",
       "cap-shape         -0.131385\n",
       "cap-diameter      -0.162830\n",
       "stem-width        -0.177310\n",
       "Name: class, dtype: float64"
      ]
     },
     "execution_count": 10,
     "metadata": {},
     "output_type": "execute_result"
    }
   ],
   "source": [
    "data.corr()['class'].sort_values(ascending=False) # แสดงผลคอลัมน์ที่มี correlation กับ 'class' จากมากไปน้อย"
   ]
  },
  {
   "cell_type": "markdown",
   "id": "da3352fe",
   "metadata": {},
   "source": [
    "<h1 style=\"font-size: 25px; font-weight: bold; font-family: Helvetica\">2. ปรับปรุงข้อมูล (Data Preprocessing)</h1>"
   ]
  },
  {
   "cell_type": "code",
   "execution_count": 11,
   "id": "237d3e9e",
   "metadata": {},
   "outputs": [],
   "source": [
    "# นำเข้าไลบรารี sklearn.preprocessing เพื่อเรียกใช้ StandardScaler\n",
    "from sklearn.preprocessing import StandardScaler\n",
    "# นำฟังก์ชัน StandardScaler() เก็บไว้ในตัวแปร pre_process\n",
    "pre_process = StandardScaler()"
   ]
  },
  {
   "cell_type": "markdown",
   "id": "1e1d4965",
   "metadata": {},
   "source": [
    "<h1 style=\"font-size: 18px;\">2.1 แบ่งข้อมูลเป็นส่วน Features และ Label</h1>"
   ]
  },
  {
   "cell_type": "code",
   "execution_count": 12,
   "id": "6ca1b76b",
   "metadata": {},
   "outputs": [],
   "source": [
    "# X เป็น Features\n",
    "X = data.drop('class', axis=1)\n",
    "# y เป็น Label\n",
    "y = data['class']"
   ]
  },
  {
   "cell_type": "markdown",
   "id": "2509e81f",
   "metadata": {},
   "source": [
    "<h1 style=\"font-size: 18px;\">2.2 ทำการ Standardize ข้อมูลส่วน Features ที่ต้องการ</h1>\n"
   ]
  },
  {
   "cell_type": "code",
   "execution_count": 13,
   "id": "aa5f1892",
   "metadata": {},
   "outputs": [
    {
     "data": {
      "text/plain": [
       "array([[ 2.22922569, -0.92644053, -0.06398903, ...,  0.62543513,\n",
       "         0.78689707,  2.80438951],\n",
       "       [ 2.47618647, -0.92644053, -0.06398903, ...,  0.6408147 ,\n",
       "         0.78689707,  2.80438951],\n",
       "       [ 2.22645085, -0.92644053, -0.06398903, ...,  0.65234938,\n",
       "         0.78689707,  2.80438951],\n",
       "       ...,\n",
       "       [-1.35031823,  0.45913306,  0.38393418, ..., -0.60621228,\n",
       "         1.09597049, -0.21024688],\n",
       "       [-1.35864275, -0.92644053,  0.38393418, ..., -0.72540397,\n",
       "         1.09597049, -0.21024688],\n",
       "       [-1.37806663,  0.45913306,  0.38393418, ..., -0.72412234,\n",
       "         1.09597049, -0.21024688]])"
      ]
     },
     "execution_count": 13,
     "metadata": {},
     "output_type": "execute_result"
    }
   ],
   "source": [
    "# ทำการ standardize ข้อมูล Features\n",
    "X_scaled = pre_process.fit_transform(X)\n",
    "# แสดงผล\n",
    "X_scaled"
   ]
  },
  {
   "cell_type": "code",
   "execution_count": 14,
   "id": "9facb378",
   "metadata": {},
   "outputs": [
    {
     "name": "stdout",
     "output_type": "stream",
     "text": [
      "<class 'numpy.ndarray'>\n",
      "<class 'pandas.core.series.Series'>\n"
     ]
    }
   ],
   "source": [
    "print(type(X_scaled)) ; print(type(y)) # แสดง type ของ X และ y ในตอนนี้"
   ]
  },
  {
   "cell_type": "code",
   "execution_count": 15,
   "id": "8b3642f2",
   "metadata": {},
   "outputs": [
    {
     "name": "stdout",
     "output_type": "stream",
     "text": [
      "<class 'numpy.ndarray'>\n",
      "<class 'numpy.ndarray'>\n"
     ]
    }
   ],
   "source": [
    "y = np.array(y)  # เปลี่ยน type ของ y ให้เป็น array\n",
    "print(type(X_scaled)) ; print(type(y)) # แสดง type ของ X_scaled และ y ในตอนนี้"
   ]
  },
  {
   "cell_type": "markdown",
   "id": "54693ab2",
   "metadata": {},
   "source": [
    "<h1 style=\"font-size: 25px; font-weight: bold; font-family: Helvetica\">3. แบ่งส่วนข้อมูล (Train-Test Split)</h1>"
   ]
  },
  {
   "cell_type": "code",
   "execution_count": 16,
   "id": "7d95d1ae",
   "metadata": {},
   "outputs": [],
   "source": [
    "# นำเข้าไลบรารี sklearn.model_selection เพื่อเรียกใช้ train_test_split\n",
    "from sklearn.model_selection import train_test_split"
   ]
  },
  {
   "cell_type": "code",
   "execution_count": 17,
   "id": "49664b86",
   "metadata": {},
   "outputs": [],
   "source": [
    "# แบ่งส่วนข้อมูล X_scaled เป็น X_train, X_test และ y เป็น y_train, y_test โดยมีอัตราส่วนแบ่งเป็น 0.7:0.3\n",
    "X_train, X_test, y_train, y_test = train_test_split(X_scaled, y, train_size=0.7, random_state=42, stratify=y)"
   ]
  },
  {
   "cell_type": "code",
   "execution_count": 18,
   "id": "1b8e7eb0",
   "metadata": {},
   "outputs": [
    {
     "name": "stdout",
     "output_type": "stream",
     "text": [
      "length of X_train: 37612 , length of X_test: 16120\n"
     ]
    }
   ],
   "source": [
    "print('length of X_train:',len(X_train),', length of X_test:', len(X_test)) # แสดงจำนวนข้อมูลใน X_train และ X_test"
   ]
  },
  {
   "cell_type": "code",
   "execution_count": 19,
   "id": "14954e56",
   "metadata": {},
   "outputs": [
    {
     "name": "stdout",
     "output_type": "stream",
     "text": [
      "shape of X_train: (37612, 8)\n",
      "shape of X_test: (16120, 8)\n",
      "shape of y_train: (37612,)\n",
      "shape of y_test: (16120,)\n"
     ]
    }
   ],
   "source": [
    "# หรืออีกวิธีหนึ่ง เราสามารถดู shape ของข้อมูลที่เราแบ่งได้ โดยใช้คำสั่ง .shape \n",
    "print('shape of X_train:', X_train.shape)   # ดู shape ของ X_train\n",
    "print('shape of X_test:', X_test.shape)     # ดู shape ของ X_test\n",
    "print('shape of y_train:', y_train.shape)   # ดู shape ของ y_train\n",
    "print('shape of y_test:', y_test.shape)     # ดู shape ของ y_test"
   ]
  },
  {
   "cell_type": "markdown",
   "id": "7fa14f9c",
   "metadata": {},
   "source": [
    "<h1 style=\"font-size: 25px; font-weight: bold; font-family: Helvetica\">4. Logistic Regression model</h1>"
   ]
  },
  {
   "cell_type": "code",
   "execution_count": 20,
   "id": "5f79e8ac",
   "metadata": {},
   "outputs": [],
   "source": [
    "# นำเข้าไลบรารี sklearn.linear_model เพื่อเรียกใช้ LogisticRegression\n",
    "from sklearn.linear_model import LogisticRegression"
   ]
  },
  {
   "cell_type": "markdown",
   "id": "ee879b73",
   "metadata": {},
   "source": [
    "<h1 style=\"font-size: 18px;\">4.1 สร้างโมเดลและเทรนโมเดล</h1>"
   ]
  },
  {
   "cell_type": "code",
   "execution_count": 21,
   "id": "29a40e68",
   "metadata": {},
   "outputs": [
    {
     "data": {
      "text/plain": [
       "LogisticRegression()"
      ]
     },
     "execution_count": 21,
     "metadata": {},
     "output_type": "execute_result"
    }
   ],
   "source": [
    "model = LogisticRegression()  # สร้างโมเดล Logistic Regression โดยเก็บไว้ที่ตัวแปร model\n",
    "\n",
    "model.fit(X_train, y_train) # เทรนโมเดล หรือ ให้โมเดลเรียนรู้ชุดข้อมูลที่เราป้อนให้ นั่นคือ X_train และ y_train"
   ]
  },
  {
   "cell_type": "code",
   "execution_count": 22,
   "id": "57cc82d7",
   "metadata": {},
   "outputs": [
    {
     "data": {
      "text/plain": [
       "array([[-0.13465444, -0.19180225,  0.01782879, -0.02086907,  0.46788686,\n",
       "        -0.26373195, -0.21308121, -0.15082616]])"
      ]
     },
     "execution_count": 22,
     "metadata": {},
     "output_type": "execute_result"
    }
   ],
   "source": [
    "model.coef_ # ค่า w ของ Feature ที่ 1,2,3,4 และ 5 ที่ได้จากการเทรนโมเดล"
   ]
  },
  {
   "cell_type": "code",
   "execution_count": 23,
   "id": "107baf30",
   "metadata": {},
   "outputs": [
    {
     "data": {
      "text/plain": [
       "array([0.21313949])"
      ]
     },
     "execution_count": 23,
     "metadata": {},
     "output_type": "execute_result"
    }
   ],
   "source": [
    "model.intercept_ # ค่า b ที่ได้จากการเทรนโมเดล"
   ]
  },
  {
   "cell_type": "markdown",
   "id": "b24b01f6",
   "metadata": {},
   "source": [
    "<h1 style=\"font-size: 18px;\"\">4.2 ใช้โมเดลที่เทรนแล้ว ทำนายข้อมูล unseen data อย่าง X_test</h1>"
   ]
  },
  {
   "cell_type": "code",
   "execution_count": 24,
   "id": "eb171345",
   "metadata": {},
   "outputs": [
    {
     "name": "stdout",
     "output_type": "stream",
     "text": [
      "[[0.44871524 0.55128476]\n",
      " [0.61410071 0.38589929]\n",
      " [0.62183869 0.37816131]\n",
      " ...\n",
      " [0.55236061 0.44763939]\n",
      " [0.41555584 0.58444416]\n",
      " [0.30377518 0.69622482]]\n"
     ]
    }
   ],
   "source": [
    "y_pred_prob = model.predict_proba(X_test) # ให้โมเดลทำนาย label โดยพิจารณาจาก Features ทุกตัวที่ป้อนให้\n",
    "print(y_pred_prob)"
   ]
  },
  {
   "cell_type": "code",
   "execution_count": 25,
   "id": "d7fd5f77",
   "metadata": {},
   "outputs": [
    {
     "name": "stdout",
     "output_type": "stream",
     "text": [
      "[1 0 0 ... 0 1 1]\n"
     ]
    }
   ],
   "source": [
    "y_pred = model.predict(X_test) # ให้โมเดลทำนาย label โดยพิจารณาจาก Features ทุกตัวที่ป้อนให้\n",
    "print(y_pred)"
   ]
  },
  {
   "cell_type": "markdown",
   "id": "1ebff59b",
   "metadata": {},
   "source": [
    "<h1 style=\"font-size: 25px; font-weight: bold; font-family: Helvetica\">5. การวัดผลโมเดล (Model Evaluation)</h1>"
   ]
  },
  {
   "cell_type": "markdown",
   "id": "9ab2b32e",
   "metadata": {},
   "source": [
    "ในการวัดผลการทำ Binary-Classification Model เราต้องรู้จัก Confusion Matrix ก่อน"
   ]
  },
  {
   "cell_type": "code",
   "execution_count": 26,
   "id": "0f502367",
   "metadata": {},
   "outputs": [],
   "source": [
    "from sklearn.metrics import confusion_matrix  # นำเข้าไลบรารี sklearn.metrics เพื่อเรียกใช้ confusion_matrix"
   ]
  },
  {
   "cell_type": "code",
   "execution_count": 27,
   "id": "c14e674f",
   "metadata": {},
   "outputs": [
    {
     "data": {
      "image/png": "[encoded data removed]",
      "text/plain": [
       "<Figure size 432x288 with 2 Axes>"
      ]
     },
     "metadata": {
      "needs_background": "light"
     },
     "output_type": "display_data"
    }
   ],
   "source": [
    "# สร้าง confusion matrix\n",
    "conf_matrix_sample = confusion_matrix(y_test, y_pred)\n",
    "\n",
    "# แสดง confusion matrix โดยใช้ไลบรารี seaborn\n",
    "plt.figure(figsize=(6,4))\n",
    "sns.heatmap(conf_matrix_sample, annot=True, fmt=\"d\", cmap=\"Blues\",\n",
    "            xticklabels=[\"Predicted Positive\", \"Predicted Negative\"],\n",
    "            yticklabels=[\"Actual Positive\", \"Actual Negative\"])\n",
    "\n",
    "plt.title(\"Confusion Matrix\")\n",
    "plt.ylabel(\"Actual\")\n",
    "plt.xlabel(\"Predicted\")\n",
    "plt.show()"
   ]
  },
  {
   "cell_type": "markdown",
   "id": "62fe8a81",
   "metadata": {},
   "source": [
    "จาก Confusion Matrix ด้านบน เราจึงได้ว่า\n",
    "<div style=\" border-radius: 5px; display: flex; align-items: center;\">\n",
    "<h1 style=\"margin: 0 auto; font-size: 18px; font-weight: bold;\">True Positive (TP) = 4024</h1>\n",
    "<h1 style=\"margin: 0 auto; font-size: 18px; font-weight: bold;\">False Positive (FP) = 3284</h1>\n",
    "<h1 style=\"margin: 0 auto; font-size: 18px; font-weight: bold;\">False Negative (FN) = 2607</h1>\n",
    "<h1 style=\"margin: 0 auto; font-size: 18px; font-weight: bold;\">True Negative (TN) = 6205</h1>\n",
    "</div>"
   ]
  },
  {
   "cell_type": "markdown",
   "id": "98e19ed7",
   "metadata": {},
   "source": [
    "<h1 style=\"font-size: 18px; font-weight: bold;\">5.1 Accuracy - ค่าความแม่นยำ</h1>\n",
    "\n",
    "- ความแม่นยำ เป็นตัววัดประสิทธิภาพที่เข้าใจได้ง่ายที่สุด มันคืออัตราส่วนของการทำนายที่ถูกต้องต่อการทำนายทั้งหมด\n",
    "- สูตร:\n",
    "$$\\text{Accuracy} = \\frac{\\text{จำนวนการทำนายที่ถูกต้อง}}{\\text{จำนวนการทำนายทั้งหมด}}$$\n",
    "- หรือ:\n",
    "$$\\text{Accuracy} = \\frac{TP + TN}{TP + TN + FP + FN}$$\n",
    "\n",
    "<h1 style=\"font-size: 18px; font-weight: bold;\">5.2 Precision - ความแม่นยำของการทำนายคลาสบวก</h1>\n",
    "\n",
    "- Precision คืออัตราส่วนของการทำนายคลาสบวกที่ถูกต้องต่อการทำนายคลาสบวกทั้งหมด:\n",
    "- สูตร:\n",
    "$$\\text{Precision} = \\frac{\\text{TP}}{\\text{TP + FP}}$$\n",
    "\n",
    "<h1 style=\"font-size: 18px; font-weight: bold;\">5.3 Recall / Sensitivity - ความครอบคลุม</h1>\n",
    "\n",
    "- คืออัตราส่วนของการทำนายคลาสบวกที่ถูกต้องต่อคลาสบวกทั้งหมดในข้อมูลจริง:\n",
    "- สูตร:\n",
    "$$\\text{Recall} = \\frac{\\text{TP}}{\\text{TP + FN}}$$\n",
    "\n",
    "<h1 style=\"font-size: 18px; font-weight: bold;\">5.4 F1-Score - คะแนน F1 </h1>\n",
    "\n",
    "- เป็นค่าเฉลี่ยแบบ harmonic ระหว่างความแม่นยำของการทำนายคลาสบวกและความครอบคลุม\n",
    "- เป็นวิธีที่ดีในการแสดงประสิทธิภาพของโมเดลเมื่อข้อมูลบวกและข้อมูลลบมีจำนวนที่ไม่เท่ากัน:\n",
    "- สูตร:\n",
    "$$\\text{คะแนน F1} = 2 \\times \\frac{\\text{Precision} \\times \\text{Recall}}{\\text{Precision} + \\text{Recall}}$$\n",
    "\n",
    "<h1 style=\"font-size: 18px; font-weight: bold;\">5.5 Matthew Correlation Coefficient (MCC) - ค่าสหสัมพันธ์แมทธิว </h1>\n",
    "\n",
    "- คือค่าสหสัมพันธ์ระหว่างการทำนายและข้อมูลจริง ค่านี้จะอยู่ระหว่าง -1 และ 1 ซึ่งค่า 1 หมายถึงการทำนายที่ดีที่สุด ค่า -1 หมายถึงการทำนายที่แย่ที่สุด และค่า 0 หมายถึงการทำนายแบบสุ่ม:\n",
    "- สูตร:\n",
    "$$\\text{MCC} = \\frac{\\text{TP} \\times \\text{TN} - \\text{FP} \\times \\text{FN}}{\\sqrt{(\\text{TP} + \\text{FP})(\\text{TP} + \\text{FN})(\\text{TN} + \\text{FP})(\\text{TN} + \\text{FN})}}$$\n"
   ]
  },
  {
   "cell_type": "code",
   "execution_count": 28,
   "id": "b4fffb4f",
   "metadata": {},
   "outputs": [],
   "source": [
    "#นำเข้าไลบรารี sklearn.metrics เพื่อเรียกใช้ accuracy_score, precision_score, recall_score, f1_score, matthews_corrcoef\n",
    "from sklearn.metrics import accuracy_score, precision_score, recall_score, f1_score, matthews_corrcoef"
   ]
  },
  {
   "cell_type": "code",
   "execution_count": 29,
   "id": "e2da0dfc",
   "metadata": {},
   "outputs": [
    {
     "name": "stdout",
     "output_type": "stream",
     "text": [
      "ความแม่นยำ (Accuracy): 0.6346\n",
      "ความแม่นยำของการทำนายคลาสบวก (Precision): 0.6539\n",
      "ความครอบคลุม (Recall): 0.7042\n",
      "คะแนน F1 (F1-Score): 0.6781\n",
      "ค่าสหสัมพันธ์แมทธิว (MCC): 0.2578\n"
     ]
    }
   ],
   "source": [
    "# คำนวณผลของ metrics ต่างๆ\n",
    "accuracy = accuracy_score(y_test, y_pred)\n",
    "precision = precision_score(y_test, y_pred)\n",
    "recall = recall_score(y_test, y_pred)\n",
    "f1 = f1_score(y_test, y_pred)\n",
    "mcc = matthews_corrcoef(y_test, y_pred)\n",
    "\n",
    "# แสดงผล\n",
    "print(f\"ความแม่นยำ (Accuracy): {accuracy:.4f}\")\n",
    "print(f\"ความแม่นยำของการทำนายคลาสบวก (Precision): {precision:.4f}\")\n",
    "print(f\"ความครอบคลุม (Recall): {recall:.4f}\")\n",
    "print(f\"คะแนน F1 (F1-Score): {f1:.4f}\")\n",
    "print(f\"ค่าสหสัมพันธ์แมทธิว (MCC): {mcc:.4f}\")"
   ]
  },
  {
   "cell_type": "markdown",
   "id": "4c4a8248",
   "metadata": {},
   "source": [
    "<h1 style=\"font-size: 18px; font-weight: bold;\">5.6 Classification Report</h1>"
   ]
  },
  {
   "cell_type": "code",
   "execution_count": 30,
   "id": "3e83545b",
   "metadata": {},
   "outputs": [],
   "source": [
    "from sklearn.metrics import classification_report # นำเข้าไลบรารี sklearn.metrics เพื่อเรียกใช้ classification_report"
   ]
  },
  {
   "cell_type": "code",
   "execution_count": 31,
   "id": "b1c69fbe",
   "metadata": {},
   "outputs": [
    {
     "name": "stdout",
     "output_type": "stream",
     "text": [
      "              precision    recall  f1-score   support\n",
      "\n",
      "           0       0.61      0.55      0.58      7308\n",
      "           1       0.65      0.70      0.68      8812\n",
      "\n",
      "    accuracy                           0.63     16120\n",
      "   macro avg       0.63      0.63      0.63     16120\n",
      "weighted avg       0.63      0.63      0.63     16120\n",
      "\n"
     ]
    }
   ],
   "source": [
    "# คำสั่งเรียกดู classification report\n",
    "report = classification_report(y_test, y_pred)\n",
    "# แสดงผล\n",
    "print(report)"
   ]
  },
  {
   "cell_type": "code",
   "execution_count": null,
   "id": "d0e42841",
   "metadata": {},
   "outputs": [],
   "source": []
  }
 ],
 "metadata": {
  "kernelspec": {
   "display_name": "Python 3",
   "language": "python",
   "name": "python3"
  },
  "language_info": {
   "codemirror_mode": {
    "name": "ipython",
    "version": 3
   },
   "file_extension": ".py",
   "mimetype": "text/x-python",
   "name": "python",
   "nbconvert_exporter": "python",
   "pygments_lexer": "ipython3",
   "version": "3.9.12"
  }
 },
 "nbformat": 4,
 "nbformat_minor": 5
}
